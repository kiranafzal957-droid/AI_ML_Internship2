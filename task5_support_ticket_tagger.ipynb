{
 "cells": [
  {
   "cell_type": "code",
   "execution_count": 2,
   "id": "7f649ff4-6424-4e29-a761-b02a53d4dc2c",
   "metadata": {},
   "outputs": [
    {
     "name": "stdout",
     "output_type": "stream",
     "text": [
      "Extracted files: ['customer_support_tickets.csv']\n"
     ]
    }
   ],
   "source": [
    "import zipfile\n",
    "import os\n",
    "\n",
    "# Path to your zip file\n",
    "zip_path = \"customer-support-ticket-dataset.zip\"\n",
    "\n",
    "# Extract here\n",
    "with zipfile.ZipFile(zip_path, 'r') as zip_ref:\n",
    "    zip_ref.extractall(\"support_ticket_data\")\n",
    "\n",
    "print(\"Extracted files:\", os.listdir(\"support_ticket_data\"))"
   ]
  },
  {
   "cell_type": "code",
   "execution_count": 5,
   "id": "597c716c-e0c5-4bd2-9781-7e43e9a9d1b5",
   "metadata": {},
   "outputs": [
    {
     "name": "stdout",
     "output_type": "stream",
     "text": [
      "['customer_support_tickets.csv']\n"
     ]
    }
   ],
   "source": [
    "import os\n",
    "\n",
    "# List everything inside the extracted folder\n",
    "print(os.listdir(\"support_ticket_data\"))\n"
   ]
  },
  {
   "cell_type": "code",
   "execution_count": 6,
   "id": "b03ed363-f322-4000-863d-b24090c3dc4c",
   "metadata": {},
   "outputs": [
    {
     "name": "stdout",
     "output_type": "stream",
     "text": [
      "   Ticket ID        Customer Name              Customer Email  Customer Age  \\\n",
      "0          1        Marisa Obrien  carrollallison@example.com            32   \n",
      "1          2         Jessica Rios    clarkeashley@example.com            42   \n",
      "2          3  Christopher Robbins   gonzalestracy@example.com            48   \n",
      "3          4     Christina Dillon    bradleyolson@example.org            27   \n",
      "4          5    Alexander Carroll     bradleymark@example.com            67   \n",
      "\n",
      "  Customer Gender Product Purchased Date of Purchase      Ticket Type  \\\n",
      "0           Other        GoPro Hero       2021-03-22  Technical issue   \n",
      "1          Female       LG Smart TV       2021-05-22  Technical issue   \n",
      "2           Other          Dell XPS       2020-07-14  Technical issue   \n",
      "3          Female  Microsoft Office       2020-11-13  Billing inquiry   \n",
      "4          Female  Autodesk AutoCAD       2020-02-04  Billing inquiry   \n",
      "\n",
      "             Ticket Subject  \\\n",
      "0             Product setup   \n",
      "1  Peripheral compatibility   \n",
      "2           Network problem   \n",
      "3            Account access   \n",
      "4                 Data loss   \n",
      "\n",
      "                                  Ticket Description  \\\n",
      "0  I'm having an issue with the {product_purchase...   \n",
      "1  I'm having an issue with the {product_purchase...   \n",
      "2  I'm facing a problem with my {product_purchase...   \n",
      "3  I'm having an issue with the {product_purchase...   \n",
      "4  I'm having an issue with the {product_purchase...   \n",
      "\n",
      "               Ticket Status                                     Resolution  \\\n",
      "0  Pending Customer Response                                            NaN   \n",
      "1  Pending Customer Response                                            NaN   \n",
      "2                     Closed   Case maybe show recently my computer follow.   \n",
      "3                     Closed  Try capital clearly never color toward story.   \n",
      "4                     Closed                    West decision evidence bit.   \n",
      "\n",
      "  Ticket Priority Ticket Channel  First Response Time   Time to Resolution  \\\n",
      "0        Critical   Social media  2023-06-01 12:15:36                  NaN   \n",
      "1        Critical           Chat  2023-06-01 16:45:38                  NaN   \n",
      "2             Low   Social media  2023-06-01 11:14:38  2023-06-01 18:05:38   \n",
      "3             Low   Social media  2023-06-01 07:29:40  2023-06-01 01:57:40   \n",
      "4             Low          Email  2023-06-01 00:12:42  2023-06-01 19:53:42   \n",
      "\n",
      "   Customer Satisfaction Rating  \n",
      "0                           NaN  \n",
      "1                           NaN  \n",
      "2                           3.0  \n",
      "3                           3.0  \n",
      "4                           1.0  \n",
      "Dataset saved as support_tickets.csv\n"
     ]
    }
   ],
   "source": [
    "import pandas as pd\n",
    "\n",
    "csv_path = \"support_ticket_data/customer_support_tickets.csv\"\n",
    "\n",
    "df = pd.read_csv(csv_path)\n",
    "print(df.head())\n",
    "\n",
    "# Save a working copy for Task 5\n",
    "df.to_csv(\"support_tickets.csv\", index=False)\n",
    "print(\"Dataset saved as support_tickets.csv\")\n"
   ]
  },
  {
   "cell_type": "code",
   "execution_count": 8,
   "id": "5aeac46f-a31e-4202-ba5c-727b3d39f5a0",
   "metadata": {},
   "outputs": [
    {
     "name": "stdout",
     "output_type": "stream",
     "text": [
      "Index(['Ticket ID', 'Customer Name', 'Customer Email', 'Customer Age',\n",
      "       'Customer Gender', 'Product Purchased', 'Date of Purchase',\n",
      "       'Ticket Type', 'Ticket Subject', 'Ticket Description', 'Ticket Status',\n",
      "       'Resolution', 'Ticket Priority', 'Ticket Channel',\n",
      "       'First Response Time', 'Time to Resolution',\n",
      "       'Customer Satisfaction Rating'],\n",
      "      dtype='object')\n"
     ]
    }
   ],
   "source": [
    "print(df.columns)\n"
   ]
  },
  {
   "cell_type": "code",
   "execution_count": null,
   "id": "85e2892b-0988-4323-8f25-6c76d1a506dc",
   "metadata": {},
   "outputs": [
    {
     "name": "stderr",
     "output_type": "stream",
     "text": [
      "WARNING: Ignoring invalid distribution ~sspec (C:\\Users\\kiran\\anaconda3\\Lib\\site-packages)\n",
      "WARNING: Ignoring invalid distribution ~sspec (C:\\Users\\kiran\\anaconda3\\Lib\\site-packages)\n",
      "WARNING: Ignoring invalid distribution ~sspec (C:\\Users\\kiran\\anaconda3\\Lib\\site-packages)\n"
     ]
    },
    {
     "name": "stdout",
     "output_type": "stream",
     "text": [
      "Requirement already satisfied: transformers in c:\\users\\kiran\\anaconda3\\lib\\site-packages (4.55.3)\n",
      "Requirement already satisfied: datasets in c:\\users\\kiran\\anaconda3\\lib\\site-packages (4.0.0)\n",
      "Requirement already satisfied: accelerate in c:\\users\\kiran\\anaconda3\\lib\\site-packages (1.10.0)\n",
      "Requirement already satisfied: scikit-learn in c:\\users\\kiran\\anaconda3\\lib\\site-packages (1.6.1)\n",
      "Requirement already satisfied: filelock in c:\\users\\kiran\\anaconda3\\lib\\site-packages (from transformers) (3.17.0)\n",
      "Requirement already satisfied: huggingface-hub<1.0,>=0.34.0 in c:\\users\\kiran\\anaconda3\\lib\\site-packages (from transformers) (0.34.4)\n",
      "Requirement already satisfied: numpy>=1.17 in c:\\users\\kiran\\anaconda3\\lib\\site-packages (from transformers) (2.1.3)\n",
      "Requirement already satisfied: packaging>=20.0 in c:\\users\\kiran\\anaconda3\\lib\\site-packages (from transformers) (24.2)\n",
      "Requirement already satisfied: pyyaml>=5.1 in c:\\users\\kiran\\anaconda3\\lib\\site-packages (from transformers) (6.0.2)\n",
      "Requirement already satisfied: regex!=2019.12.17 in c:\\users\\kiran\\anaconda3\\lib\\site-packages (from transformers) (2024.11.6)\n",
      "Requirement already satisfied: requests in c:\\users\\kiran\\anaconda3\\lib\\site-packages (from transformers) (2.32.3)\n",
      "Requirement already satisfied: tokenizers<0.22,>=0.21 in c:\\users\\kiran\\anaconda3\\lib\\site-packages (from transformers) (0.21.4)\n",
      "Requirement already satisfied: safetensors>=0.4.3 in c:\\users\\kiran\\anaconda3\\lib\\site-packages (from transformers) (0.6.2)\n",
      "Requirement already satisfied: tqdm>=4.27 in c:\\users\\kiran\\anaconda3\\lib\\site-packages (from transformers) (4.67.1)\n",
      "Requirement already satisfied: fsspec>=2023.5.0 in c:\\users\\kiran\\anaconda3\\lib\\site-packages (from huggingface-hub<1.0,>=0.34.0->transformers) (2025.3.0)\n",
      "Requirement already satisfied: typing-extensions>=3.7.4.3 in c:\\users\\kiran\\anaconda3\\lib\\site-packages (from huggingface-hub<1.0,>=0.34.0->transformers) (4.12.2)\n",
      "Requirement already satisfied: pyarrow>=15.0.0 in c:\\users\\kiran\\anaconda3\\lib\\site-packages (from datasets) (19.0.0)\n",
      "Requirement already satisfied: dill<0.3.9,>=0.3.0 in c:\\users\\kiran\\anaconda3\\lib\\site-packages (from datasets) (0.3.8)\n",
      "Requirement already satisfied: pandas in c:\\users\\kiran\\anaconda3\\lib\\site-packages (from datasets) (2.2.3)\n",
      "Requirement already satisfied: xxhash in c:\\users\\kiran\\anaconda3\\lib\\site-packages (from datasets) (3.5.0)\n",
      "Requirement already satisfied: multiprocess<0.70.17 in c:\\users\\kiran\\anaconda3\\lib\\site-packages (from datasets) (0.70.16)\n",
      "Requirement already satisfied: aiohttp!=4.0.0a0,!=4.0.0a1 in c:\\users\\kiran\\anaconda3\\lib\\site-packages (from fsspec[http]<=2025.3.0,>=2023.1.0->datasets) (3.11.10)\n",
      "Requirement already satisfied: psutil in c:\\users\\kiran\\anaconda3\\lib\\site-packages (from accelerate) (5.9.0)\n",
      "Requirement already satisfied: torch>=2.0.0 in c:\\users\\kiran\\anaconda3\\lib\\site-packages (from accelerate) (2.8.0)\n",
      "Requirement already satisfied: scipy>=1.6.0 in c:\\users\\kiran\\anaconda3\\lib\\site-packages (from scikit-learn) (1.15.3)\n",
      "Requirement already satisfied: joblib>=1.2.0 in c:\\users\\kiran\\anaconda3\\lib\\site-packages (from scikit-learn) (1.4.2)\n",
      "Requirement already satisfied: threadpoolctl>=3.1.0 in c:\\users\\kiran\\anaconda3\\lib\\site-packages (from scikit-learn) (3.5.0)\n",
      "Requirement already satisfied: aiohappyeyeballs>=2.3.0 in c:\\users\\kiran\\anaconda3\\lib\\site-packages (from aiohttp!=4.0.0a0,!=4.0.0a1->fsspec[http]<=2025.3.0,>=2023.1.0->datasets) (2.4.4)\n",
      "Requirement already satisfied: aiosignal>=1.1.2 in c:\\users\\kiran\\anaconda3\\lib\\site-packages (from aiohttp!=4.0.0a0,!=4.0.0a1->fsspec[http]<=2025.3.0,>=2023.1.0->datasets) (1.2.0)\n",
      "Requirement already satisfied: attrs>=17.3.0 in c:\\users\\kiran\\anaconda3\\lib\\site-packages (from aiohttp!=4.0.0a0,!=4.0.0a1->fsspec[http]<=2025.3.0,>=2023.1.0->datasets) (24.3.0)\n",
      "Requirement already satisfied: frozenlist>=1.1.1 in c:\\users\\kiran\\anaconda3\\lib\\site-packages (from aiohttp!=4.0.0a0,!=4.0.0a1->fsspec[http]<=2025.3.0,>=2023.1.0->datasets) (1.5.0)\n",
      "Requirement already satisfied: multidict<7.0,>=4.5 in c:\\users\\kiran\\anaconda3\\lib\\site-packages (from aiohttp!=4.0.0a0,!=4.0.0a1->fsspec[http]<=2025.3.0,>=2023.1.0->datasets) (6.1.0)\n",
      "Requirement already satisfied: propcache>=0.2.0 in c:\\users\\kiran\\anaconda3\\lib\\site-packages (from aiohttp!=4.0.0a0,!=4.0.0a1->fsspec[http]<=2025.3.0,>=2023.1.0->datasets) (0.3.1)\n",
      "Requirement already satisfied: yarl<2.0,>=1.17.0 in c:\\users\\kiran\\anaconda3\\lib\\site-packages (from aiohttp!=4.0.0a0,!=4.0.0a1->fsspec[http]<=2025.3.0,>=2023.1.0->datasets) (1.18.0)\n",
      "Requirement already satisfied: idna>=2.0 in c:\\users\\kiran\\anaconda3\\lib\\site-packages (from yarl<2.0,>=1.17.0->aiohttp!=4.0.0a0,!=4.0.0a1->fsspec[http]<=2025.3.0,>=2023.1.0->datasets) (3.7)\n",
      "Requirement already satisfied: charset-normalizer<4,>=2 in c:\\users\\kiran\\anaconda3\\lib\\site-packages (from requests->transformers) (3.3.2)\n",
      "Requirement already satisfied: urllib3<3,>=1.21.1 in c:\\users\\kiran\\anaconda3\\lib\\site-packages (from requests->transformers) (2.3.0)\n",
      "Requirement already satisfied: certifi>=2017.4.17 in c:\\users\\kiran\\anaconda3\\lib\\site-packages (from requests->transformers) (2025.7.14)\n",
      "Requirement already satisfied: sympy>=1.13.3 in c:\\users\\kiran\\anaconda3\\lib\\site-packages (from torch>=2.0.0->accelerate) (1.13.3)\n",
      "Requirement already satisfied: networkx in c:\\users\\kiran\\anaconda3\\lib\\site-packages (from torch>=2.0.0->accelerate) (3.4.2)\n",
      "Requirement already satisfied: jinja2 in c:\\users\\kiran\\anaconda3\\lib\\site-packages (from torch>=2.0.0->accelerate) (3.1.6)\n",
      "Requirement already satisfied: setuptools in c:\\users\\kiran\\anaconda3\\lib\\site-packages (from torch>=2.0.0->accelerate) (72.1.0)\n",
      "Requirement already satisfied: mpmath<1.4,>=1.1.0 in c:\\users\\kiran\\anaconda3\\lib\\site-packages (from sympy>=1.13.3->torch>=2.0.0->accelerate) (1.3.0)\n",
      "Requirement already satisfied: colorama in c:\\users\\kiran\\anaconda3\\lib\\site-packages (from tqdm>=4.27->transformers) (0.4.6)\n",
      "Requirement already satisfied: MarkupSafe>=2.0 in c:\\users\\kiran\\anaconda3\\lib\\site-packages (from jinja2->torch>=2.0.0->accelerate) (3.0.2)\n",
      "Requirement already satisfied: python-dateutil>=2.8.2 in c:\\users\\kiran\\anaconda3\\lib\\site-packages (from pandas->datasets) (2.9.0.post0)\n",
      "Requirement already satisfied: pytz>=2020.1 in c:\\users\\kiran\\anaconda3\\lib\\site-packages (from pandas->datasets) (2024.1)\n",
      "Requirement already satisfied: tzdata>=2022.7 in c:\\users\\kiran\\anaconda3\\lib\\site-packages (from pandas->datasets) (2025.2)\n",
      "Requirement already satisfied: six>=1.5 in c:\\users\\kiran\\anaconda3\\lib\\site-packages (from python-dateutil>=2.8.2->pandas->datasets) (1.17.0)\n",
      "Dataset Sample:\n",
      "    Ticket ID        Customer Name              Customer Email  Customer Age  \\\n",
      "0          1        Marisa Obrien  carrollallison@example.com            32   \n",
      "1          2         Jessica Rios    clarkeashley@example.com            42   \n",
      "2          3  Christopher Robbins   gonzalestracy@example.com            48   \n",
      "3          4     Christina Dillon    bradleyolson@example.org            27   \n",
      "4          5    Alexander Carroll     bradleymark@example.com            67   \n",
      "\n",
      "  Customer Gender Product Purchased Date of Purchase      Ticket Type  \\\n",
      "0           Other        GoPro Hero       2021-03-22  Technical issue   \n",
      "1          Female       LG Smart TV       2021-05-22  Technical issue   \n",
      "2           Other          Dell XPS       2020-07-14  Technical issue   \n",
      "3          Female  Microsoft Office       2020-11-13  Billing inquiry   \n",
      "4          Female  Autodesk AutoCAD       2020-02-04  Billing inquiry   \n",
      "\n",
      "             Ticket Subject  \\\n",
      "0             Product setup   \n",
      "1  Peripheral compatibility   \n",
      "2           Network problem   \n",
      "3            Account access   \n",
      "4                 Data loss   \n",
      "\n",
      "                                  Ticket Description  \\\n",
      "0  I'm having an issue with the {product_purchase...   \n",
      "1  I'm having an issue with the {product_purchase...   \n",
      "2  I'm facing a problem with my {product_purchase...   \n",
      "3  I'm having an issue with the {product_purchase...   \n",
      "4  I'm having an issue with the {product_purchase...   \n",
      "\n",
      "               Ticket Status                                     Resolution  \\\n",
      "0  Pending Customer Response                                            NaN   \n",
      "1  Pending Customer Response                                            NaN   \n",
      "2                     Closed   Case maybe show recently my computer follow.   \n",
      "3                     Closed  Try capital clearly never color toward story.   \n",
      "4                     Closed                    West decision evidence bit.   \n",
      "\n",
      "  Ticket Priority Ticket Channel  First Response Time   Time to Resolution  \\\n",
      "0        Critical   Social media  2023-06-01 12:15:36                  NaN   \n",
      "1        Critical           Chat  2023-06-01 16:45:38                  NaN   \n",
      "2             Low   Social media  2023-06-01 11:14:38  2023-06-01 18:05:38   \n",
      "3             Low   Social media  2023-06-01 07:29:40  2023-06-01 01:57:40   \n",
      "4             Low          Email  2023-06-01 00:12:42  2023-06-01 19:53:42   \n",
      "\n",
      "   Customer Satisfaction Rating  \n",
      "0                           NaN  \n",
      "1                           NaN  \n",
      "2                           3.0  \n",
      "3                           3.0  \n",
      "4                           1.0  \n",
      "\n",
      " Dataset saved as support_tickets.csv\n"
     ]
    },
    {
     "name": "stderr",
     "output_type": "stream",
     "text": [
      "Device set to use cpu\n"
     ]
    }
   ],
   "source": [
    "# Step 1: Install dependencies (only first time)\n",
    "!pip install transformers datasets accelerate scikit-learn\n",
    "\n",
    "# Step 2: Import libraries\n",
    "import pandas as pd\n",
    "from transformers import pipeline\n",
    "\n",
    "# Step 3: Load dataset (from your extracted folder)\n",
    "csv_path = \"support_ticket_data/customer_support_tickets.csv\"\n",
    "df = pd.read_csv(csv_path)\n",
    "print(\"Dataset Sample:\\n\", df.head())\n",
    "\n",
    "# Step 4: Save a working copy\n",
    "df.to_csv(\"support_tickets.csv\", index=False)\n",
    "print(\"\\n Dataset saved as support_tickets.csv\")\n",
    "\n",
    "# Step 5: Define candidate labels\n",
    "candidate_labels = [\"Technical Issue\", \"Billing\", \"Authentication\", \"General Inquiry\"]\n",
    "\n",
    "# Step 6: Zero-Shot Classification with BART MNLI\n",
    "classifier = pipeline(\"zero-shot-classification\", model=\"facebook/bart-large-mnli\")\n",
    "\n",
    "def get_tags(text):\n",
    "    result = classifier(text, candidate_labels, multi_label=True)\n",
    "    tags = result['labels'][:3]   # top 3 labels\n",
    "    scores = result['scores'][:3] # top 3 scores\n",
    "    return list(zip(tags, scores))\n",
    "\n",
    "# Apply on Ticket Description column\n",
    "df[\"predicted_tags\"] = df[\"Ticket Description\"].apply(get_tags)\n",
    "\n",
    "# Step 7: Show predictions\n",
    "print(\"\\nPredictions (Zero-Shot):\\n\")\n",
    "print(df[[\"Ticket Description\", \"predicted_tags\"]].head())\n",
    "\n",
    "# Step 8: (Optional) Create a single predicted label (top-1)\n",
    "df[\"predicted_label\"] = df[\"predicted_tags\"].apply(lambda x: x[0][0])\n",
    "\n",
    "#  Note: No ground-truth labels available in this dataset\n",
    "print(\"\\n No 'category' column found → skipping accuracy/F1 evaluation\")\n",
    "\n",
    "# Step 9: Save results\n",
    "df.to_csv(\"ticket_predictions.csv\", index=False)\n",
    "print(\"\\n Predictions saved as ticket_predictions.csv\")\n"
   ]
  },
  {
   "cell_type": "code",
   "execution_count": null,
   "id": "13916d49-1c70-4202-b816-44db7b79beb1",
   "metadata": {},
   "outputs": [],
   "source": []
  }
 ],
 "metadata": {
  "kernelspec": {
   "display_name": "Python [conda env:base] *",
   "language": "python",
   "name": "conda-base-py"
  },
  "language_info": {
   "codemirror_mode": {
    "name": "ipython",
    "version": 3
   },
   "file_extension": ".py",
   "mimetype": "text/x-python",
   "name": "python",
   "nbconvert_exporter": "python",
   "pygments_lexer": "ipython3",
   "version": "3.13.5"
  }
 },
 "nbformat": 4,
 "nbformat_minor": 5
}
